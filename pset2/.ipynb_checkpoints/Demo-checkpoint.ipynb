{
 "cells": [
  {
   "cell_type": "markdown",
   "metadata": {},
   "source": [
    "1. In this problem, we implement two naive Bayes classifiers to filter spam emails.  For a prior, assume that spam is equally as likely as not-spam.  \n",
    "\n",
    "The first classifier is based on a Bernoulli model. The features $z_{nw}$ are whether or not the word $w$ appears in email $n$.  The labels $y_{nk}$ are $1$ iff email $n$ is of class $k$, for $k=0, 1$.  The generative model for the Bernoulli model is,\n",
    "$$\n",
    "p (z_n | y_{nk} = 1, \\mu ) = \\prod_{w} \\mu_{kw }^{ z_{nw} } ( 1 - \\mu_{kw } )^{ 1 - z_{nw } }.\n",
    "$$\n",
    "The second classifer is based on a geometric distribution using the raw word counts $x_{nw}$. The generative model is\n",
    "$$\n",
    "p (x_n | y_{nk} = 1, \\theta ) = \\prod_{w} \\theta_{kw} ( 1  - \\theta_{kw} )^{ x_{nw} }\n",
    "$$"
   ]
  },
  {
   "cell_type": "markdown",
   "metadata": {},
   "source": [
    "2a) Implement the MLE for the Bernoulli model, thresholded so that $\\mu_{nk} \\geq \\delta$.  Plot validation accuracy for $\\delta \\in \\{ 10^{-3}, 10^{-5}, 10^{-7}, 10^{-9}, 10^{-11} \\}$ and report the test accuracy for the model with the highest validation accuracy."
   ]
  },
  {
   "cell_type": "code",
   "execution_count": 1,
   "metadata": {},
   "outputs": [
    {
     "name": "stdout",
     "output_type": "stream",
     "text": [
      "The threshold with the best validation accuracy is: 1e-07 \n",
      " The test accuracy with this threshold is: 0.9890272835112692\n"
     ]
    }
   ],
   "source": [
    "import numpy as np\n",
    "import problem2\n",
    "import imp\n",
    "import matplotlib.pyplot as plt\n",
    "imp.reload(problem2)\n",
    "from scipy.io import loadmat\n",
    "data = loadmat('enron.mat')\n",
    "thresholds = np.power(10.0, [-3, -5, -7, -9, -11])\n",
    "bernoulliClassifier = problem2.spamClassifier(data, method='Bernoulli')\n",
    "bernoulliClassifier.validate(thresholds)\n",
    "print('The threshold with the best validation accuracy is:', bernoulliClassifier.threshold, '\\n', 'The test accuracy with this threshold is:', bernoulliClassifier.accuracy(bernoulliClassifier.predict(bernoulliClassifier.zTest), bernoulliClassifier.yTest))\n"
   ]
  },
  {
   "cell_type": "code",
   "execution_count": 2,
   "metadata": {},
   "outputs": [
    {
     "data": {
      "image/png": "[encoded data removed]",
      "text/plain": [
       "<Figure size 432x288 with 1 Axes>"
      ]
     },
     "metadata": {
      "needs_background": "light"
     },
     "output_type": "display_data"
    }
   ],
   "source": [
    "plt.scatter([-3,-5,-7,-9,-11], bernoulliClassifier.acc)\n",
    "plt.xlabel(\"log(threshold)\")\n",
    "plt.ylabel(\"Validation accuracy\")\n",
    "plt.show()"
   ]
  },
  {
   "cell_type": "markdown",
   "metadata": {},
   "source": [
    "2b) suppose you used the MLE estimates, i.e., used $\\delta = 0$ in the previous section. What fraction of spam test documents would be assigned $0$ probability of being spam?"
   ]
  },
  {
   "cell_type": "code",
   "execution_count": 3,
   "metadata": {},
   "outputs": [
    {
     "name": "stdout",
     "output_type": "stream",
     "text": [
      "The fraction of spam emails that would be assigned probability 0 of being spam in the test data set is 0.19530188312948943\n"
     ]
    }
   ],
   "source": [
    "mu = bernoulliClassifier.mle(bernoulliClassifier.zTrain, bernoulliClassifier.yTrain, 1, 0)\n",
    "wordsInNoSpam = np.zeros(mu.shape)\n",
    "wordsInNoSpam[np.where(mu<0.0000001)]=1\n",
    "m = len(np.where((bernoulliClassifier.zTest.multiply(bernoulliClassifier.yTest)).dot(wordsInNoSpam.transpose())>0.9)[0])\n",
    "print('The fraction of spam emails that would be assigned probability 0 of being spam in the test data set is', m / np.sum(bernoulliClassifier.yTrain))\n"
   ]
  },
  {
   "cell_type": "markdown",
   "metadata": {},
   "source": [
    "2c) Using the best model from 2a), calculate the score function $g(w) = \\log \\mu_{1w} - \\log \\mu_{0w}$.  List the 10 highest words and lowest words, which are indicative of spam and not-spam emails, respectively."
   ]
  },
  {
   "cell_type": "code",
   "execution_count": 4,
   "metadata": {},
   "outputs": [
    {
     "name": "stdout",
     "output_type": "stream",
     "text": [
      "The 10 words most indicative of non-spam are:\n",
      "1 .  kaminski\n",
      "2 .  ena\n",
      "3 .  hourahead\n",
      "4 .  mmbtu\n",
      "5 .  westdesk\n",
      "6 .  variances\n",
      "7 .  stinson\n",
      "8 .  enronxgate\n",
      "9 .  sitara\n",
      "10 .  ees\n",
      "The 10 words most indicative of spam are:\n",
      "1 . viagra\n",
      "2 . php\n",
      "3 . ï¿½\n",
      "4 . cialis\n",
      "5 . pills\n",
      "6 . corel\n",
      "7 . wiil\n",
      "8 . photoshop\n",
      "9 . stationery\n",
      "10 . pharmacy\n"
     ]
    }
   ],
   "source": [
    "score = np.log(bernoulliClassifier.mu1 ) - np.log(bernoulliClassifier.mu0)\n",
    "index = np.argsort(score)\n",
    "print('The 10 words most indicative of non-spam are:')\n",
    "for i in range(10):\n",
    "    print(i+1,'. ', data['vocab'][index[0,i]][0][0])\n",
    "print('The 10 words most indicative of spam are:')\n",
    "for i in range(10):\n",
    "    print(i+1, '.', data['vocab'][index[0, index.shape[1]-i-1]][0][0])\n"
   ]
  },
  {
   "cell_type": "markdown",
   "metadata": {},
   "source": [
    "2d) Consider the geometric model with count data $x$. Using the MLE found using the Bernoulli model $\\mu$, let $\\theta = 1 - \\mu$.  What is the test accuracy of this model?"
   ]
  },
  {
   "cell_type": "code",
   "execution_count": 3,
   "metadata": {},
   "outputs": [
    {
     "name": "stdout",
     "output_type": "stream",
     "text": [
      "The test accuracy is 0.9863582443653618\n"
     ]
    }
   ],
   "source": [
    "bernoulliClassifier.method = 0\n",
    "bernoulliClassifier.thetaInv1 = 1/ (1-bernoulliClassifier.mu1 )\n",
    "bernoulliClassifier.thetaInv0 = 1/ (1 - bernoulliClassifier.mu0)\n",
    "print('The test accuracy is', bernoulliClassifier.accuracy(bernoulliClassifier.yTest, bernoulliClassifier.predict(bernoulliClassifier.xTest)))"
   ]
  },
  {
   "cell_type": "markdown",
   "metadata": {},
   "source": [
    "2e) Fit a geometric classifier using an MLE and thresholds $\\delta \\in \\{ 10^{-11}, 10^{-13}, 10^{-15}, 10^{-17} \\}$.  What is the test accuracy of the best classifier?"
   ]
  },
  {
   "cell_type": "code",
   "execution_count": 2,
   "metadata": {},
   "outputs": [
    {
     "name": "stdout",
     "output_type": "stream",
     "text": [
      "The threshold with the best validation accuracy is: 1e-05 \n",
      " The test accuracy with this threshold is: 0.9912514827995255\n"
     ]
    }
   ],
   "source": [
    "geometricClassifier = problem2.spamClassifier(data, method='Geometric')\n",
    "thresholds = np.power(10.0, [-1, -3, -5, -7, -9, -11, -13, -15, -17])\n",
    "geometricClassifier.validate(thresholds)\n",
    "print('The threshold with the best validation accuracy is:', geometricClassifier.threshold, '\\n', 'The test accuracy with this threshold is:', geometricClassifier.accuracy(geometricClassifier.predict(geometricClassifier.xTest), geometricClassifier.yTest))\n"
   ]
  },
  {
   "cell_type": "code",
   "execution_count": 4,
   "metadata": {},
   "outputs": [
    {
     "data": {
      "image/png": "[encoded data removed]",
      "text/plain": [
       "<Figure size 432x288 with 1 Axes>"
      ]
     },
     "metadata": {
      "needs_background": "light"
     },
     "output_type": "display_data"
    }
   ],
   "source": [
    "plt.scatter([-1, -3, -5, -7, -9, -11, -13, -15, -17], geometricClassifier.acc)\n",
    "plt.xlabel(\"log(threshold)\")\n",
    "plt.ylabel(\"Validation accuracy\")\n",
    "plt.show()"
   ]
  },
  {
   "cell_type": "code",
   "execution_count": null,
   "metadata": {},
   "outputs": [],
   "source": []
  }
 ],
 "metadata": {
  "kernelspec": {
   "display_name": "Python 3",
   "language": "python",
   "name": "python3"
  },
  "language_info": {
   "codemirror_mode": {
    "name": "ipython",
    "version": 3
   },
   "file_extension": ".py",
   "mimetype": "text/x-python",
   "name": "python",
   "nbconvert_exporter": "python",
   "pygments_lexer": "ipython3",
   "version": "3.8.0"
  }
 },
 "nbformat": 4,
 "nbformat_minor": 2
}
