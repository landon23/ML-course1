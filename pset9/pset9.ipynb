{
 "cells": [
  {
   "cell_type": "markdown",
   "metadata": {},
   "source": [
    "<b> Problem 1.</b> In this problem we will consider a subset of the MovieLens dataset which contains user ratings for $M$ movies, recorded between $1$ and $5$, for $N$ users.  In our subset, $M=500$ and $N=943$. The training and test datasets represent the same users, but each dataset has different observed user-movie rating pairs.  We will investigate the behavior of factor analysis and PCA models for the prediction of the test ratings.\n",
    "\n",
    "Denoting by $x_{ij}$ the rating user $i$ gives to movie $j$, factor analysis models the ratings vector $x_i$ for user $i$ by a latent $K$-dimensional vector $z_i \\in \\mathbb{R}^K$ via,\n",
    "$$\n",
    "p (z_i ) = \\mathrm{Normal}(0, 1_K ), \\qquad p(x_i | z_i ) = \\mathrm{Normal}(W z_i + m, V)\n",
    "$$\n",
    "where $W$ is an $M \\times K$ factor-loading matrix, $m$ is a $M$-dimensional mean vector and $V$ is a diagonal covariance matrix.\n",
    "\n",
    "We will implement the EM-algorithm that alternately finds maximum-likelihood estimates for $W$, $m$ and $V$ and marginal distributions for hidden variables $z$. \n",
    "\n",
    "To evaluate the empirical performance of the various prediction methods, we will use the root mean square error (RMSE),\n",
    "$$\n",
    "RMSE := \\left( \\frac{1}{N_r} \\sum_{i, j} r_{ij} (x_{ij} - \\hat{x}_{ij} )^2 \\right)^{\\frac{1}{2}}\n",
    "$$\n",
    "where $r_{ij} =1$ iff $x_{ij}$ appears in the test dataset, and $N_r := \\sum_{i, j} r_{ij}$."
   ]
  },
  {
   "cell_type": "markdown",
   "metadata": {},
   "source": [
    "<b> 1.a)</b> As a simple baseline use the mean rating of each movie in the training dataset to predict the test ratings."
   ]
  },
  {
   "cell_type": "code",
   "execution_count": 8,
   "metadata": {},
   "outputs": [],
   "source": [
    "import numpy as np\n",
    "from scipy.io import loadmat\n",
    "import imp\n",
    "import hw9\n",
    "import matplotlib.pyplot as plt\n",
    "data = loadmat('movielens500.mat')\n",
    "xTrain, xTest = data['S_train'], data['S_test']\n",
    "rTrain = 1 - (xTrain==0)\n",
    "rTest = 1- (xTest ==0)"
   ]
  },
  {
   "cell_type": "code",
   "execution_count": 5,
   "metadata": {},
   "outputs": [
    {
     "name": "stdout",
     "output_type": "stream",
     "text": [
      "The RMSE using the mean training rating of each movie is: 1.0198\n"
     ]
    }
   ],
   "source": [
    "means = np.sum(xTrain, axis=0) / np.sum(rTrain, axis=0)\n",
    "err = hw9.RMS(means, xTest)\n",
    "print('The RMSE using the mean training rating of each movie is: '+'{:.4f}'.format(err))"
   ]
  },
  {
   "cell_type": "markdown",
   "metadata": {},
   "source": [
    "<b>1.b)</b> Next, we use a simple method based on PCA.  First, fill in the missing predictions using the mean predictions from (a).  Use PCA to predict the test ratings for $K= \\{1, 2, \\dots, 20\\}$.  Plot RMSE vs $K$."
   ]
  },
  {
   "cell_type": "code",
   "execution_count": 12,
   "metadata": {},
   "outputs": [],
   "source": [
    "imp.reload(hw9)\n",
    "pca = hw9.moviePCA()\n",
    "pca.fit(xTrain)\n",
    "n = 20\n",
    "Kvals = np.arange(n)+1\n",
    "rms = np.zeros(n)\n",
    "for i in range(n):\n",
    "    K = Kvals[i]\n",
    "    rms[i] = hw9.RMS(pca.predict(K), xTest)"
   ]
  },
  {
   "cell_type": "code",
   "execution_count": 13,
   "metadata": {},
   "outputs": [
    {
     "data": {
      "image/png": "[encoded data removed]",
      "text/plain": [
       "<Figure size 432x288 with 1 Axes>"
      ]
     },
     "metadata": {
      "needs_background": "light"
     },
     "output_type": "display_data"
    },
    {
     "name": "stdout",
     "output_type": "stream",
     "text": [
      "The value of K with the lowest RMSE is: 18\n",
      "The best RMSE is: 0.9778\n"
     ]
    }
   ],
   "source": [
    "plt.plot(Kvals, rms)\n",
    "plt.xlabel('components used in PCA')\n",
    "plt.ylabel('RMSE')\n",
    "plt.show()\n",
    "i = np.argmin(rms)\n",
    "print('The value of K with the lowest RMSE is:', Kvals[i])\n",
    "print('The best RMSE is: '+'{:.4f}'.format(rms[i]))"
   ]
  },
  {
   "cell_type": "markdown",
   "metadata": {},
   "source": [
    "<b>1.c)</b> Run the EM algorithm with factor analysis to estimate low dimensional representations $z_i$, and the parameters $W, m$ and $V$.  For each $K= \\{1, \\dots, 20\\}$ run the EM for $100$ training iterations, and use the estimated quantities to reconstruct the missing ratings.  Plot RMSE vs. $K$."
   ]
  },
  {
   "cell_type": "code",
   "execution_count": 15,
   "metadata": {},
   "outputs": [],
   "source": [
    "imp.reload(hw9)\n",
    "n = 20\n",
    "Kvals = np.arange(n)+1\n",
    "rmsLF = np.zeros(n)\n",
    "for i in range(n):\n",
    "    K = Kvals[i]\n",
    "    lF = hw9.latentFactor(K)\n",
    "    lF.fit(xTrain)\n",
    "    rmsLF[i] = hw9.RMS(lF.predict(), xTest)"
   ]
  },
  {
   "cell_type": "code",
   "execution_count": 20,
   "metadata": {},
   "outputs": [
    {
     "data": {
      "image/png": "[encoded data removed]",
      "text/plain": [
       "<Figure size 432x288 with 1 Axes>"
      ]
     },
     "metadata": {
      "needs_background": "light"
     },
     "output_type": "display_data"
    },
    {
     "name": "stdout",
     "output_type": "stream",
     "text": [
      "The model with the best RMS has  1 latent factors\n",
      "Best RMS: 0.9536\n"
     ]
    }
   ],
   "source": [
    "plt.plot(Kvals, rmsLF)\n",
    "plt.xlabel('Number of latent factors K')\n",
    "plt.ylabel('RMS')\n",
    "plt.show()\n",
    "i = np.argmin(rmsLF)\n",
    "print('The model with the best RMS has ', Kvals[i], 'latent factors')\n",
    "print('Best RMS: '+'{:.4f}'.format(rmsLF[i]))"
   ]
  },
  {
   "cell_type": "markdown",
   "metadata": {},
   "source": [
    "<b>Problem 2.</b> In this problem we will learn hidden Markov models (HMM) of the statistics of English text.  Each discrete time point will correspond to a single letter and for training we use a chapter from Lewis Carroll's Alice's Adventures in Wonderland.  Punctuation has been removed and all letters are lower-case.  \n",
    "\n",
    "We will use alternatively the AIC and BIC to select the optimal number of HMM states.  They are,\n",
    "$$\n",
    "\\mbox{AIC}:= \\log p (x | \\theta_M ) - d (M)\n",
    "$$\n",
    "and\n",
    "$$\n",
    "\\mbox{BIC} := \\log p (x | \\theta_M) - \\frac{1}{2} d (M) \\log (T)\n",
    "$$\n",
    "Here, $p(x | \\theta_M)$ is the likelihood of the data with the learned HMM parameters $\\theta_M$, $d(M)$ are the number of parameters in the HMM and $T$ is the text length."
   ]
  },
  {
   "cell_type": "markdown",
   "metadata": {},
   "source": [
    "<b>2.a)</b> Fit a HMM with state space sizes $K=1, 5, 10, 15, 20, 30, 40, 50, 60$.  For each of this choices run the EM algorithm for at most 500 iterations or until the change in log-likelihood falls below $10^{-6}$.  Compute the log-likelihood that each model assigns to the training sequence. "
   ]
  },
  {
   "cell_type": "code",
   "execution_count": 1,
   "metadata": {},
   "outputs": [],
   "source": [
    "import numpy as np\n",
    "import imp\n",
    "import hw9\n",
    "imp.reload(hw9)\n",
    "train, test = hw9.loadText('aliceTrain.txt'), hw9.loadText('aliceTest.txt')\n",
    "Kvals = [1, 5, 10, 15, 20, 30, 40, 50, 60]"
   ]
  },
  {
   "cell_type": "code",
   "execution_count": 5,
   "metadata": {},
   "outputs": [
    {
     "name": "stdout",
     "output_type": "stream",
     "text": [
      "Tolerance reached!\n",
      "Tolerance reached!\n",
      "Max iterations reached\n",
      "Max iterations reached\n",
      "Tolerance reached!\n",
      "Max iterations reached\n",
      "Max iterations reached\n",
      "Max iterations reached\n",
      "Max iterations reached\n"
     ]
    }
   ],
   "source": [
    "imp.reload(hw9)\n",
    "models={}\n",
    "params = {}\n",
    "logLL = {}\n",
    "for K in Kvals:\n",
    "    mod = hw9.hMM(K)\n",
    "    mod.fit(train, 27)\n",
    "    models[str(K)]=mod\n",
    "    params[str(K)]=mod.params\n",
    "    logLL[str(K)]=mod.ll[-1]"
   ]
  },
  {
   "cell_type": "code",
   "execution_count": 6,
   "metadata": {},
   "outputs": [],
   "source": [
    "import pickle\n",
    "pickle.dump(params, open('params.pkl', 'wb'))"
   ]
  },
  {
   "cell_type": "markdown",
   "metadata": {},
   "source": [
    "<b>2.b)</b> Plot the AIC, BIC and log likelihood vs the number of states for the HMMs learned in (a)."
   ]
  },
  {
   "cell_type": "code",
   "execution_count": 10,
   "metadata": {},
   "outputs": [],
   "source": [
    "import matplotlib.pyplot as plt\n",
    "imp.reload(hw9)\n",
    "n = len(Kvals)\n",
    "LL, AIC, BIC = [], [], []\n",
    "for i, K in enumerate(Kvals):\n",
    "    LL.append(-logLL[str(K)])\n",
    "    AIC.append(hw9.aic(LL[i], K, 27))\n",
    "    BIC.append(hw9.bic(LL[i], 27, K, len(train)))"
   ]
  },
  {
   "cell_type": "code",
   "execution_count": 15,
   "metadata": {},
   "outputs": [
    {
     "data": {
      "image/png": "[encoded data removed]",
      "text/plain": [
       "<Figure size 432x288 with 1 Axes>"
      ]
     },
     "metadata": {
      "needs_background": "light"
     },
     "output_type": "display_data"
    },
    {
     "data": {
      "image/png": "[encoded data removed]",
      "text/plain": [
       "<Figure size 432x288 with 1 Axes>"
      ]
     },
     "metadata": {
      "needs_background": "light"
     },
     "output_type": "display_data"
    },
    {
     "data": {
      "image/png": "[encoded data removed]",
      "text/plain": [
       "<Figure size 432x288 with 1 Axes>"
      ]
     },
     "metadata": {
      "needs_background": "light"
     },
     "output_type": "display_data"
    }
   ],
   "source": [
    "plt.plot(Kvals, LL)\n",
    "plt.xlabel('Number of hidden states')\n",
    "plt.ylabel('Log likelihood')\n",
    "plt.show()\n",
    "plt.plot(Kvals, AIC)\n",
    "plt.xlabel('Number of hidden states')\n",
    "plt.ylabel('AIC')\n",
    "plt.show()\n",
    "plt.plot(Kvals, BIC)\n",
    "plt.xlabel('Number of hidden states')\n",
    "plt.ylabel('BIC')\n",
    "plt.show()"
   ]
  },
  {
   "cell_type": "markdown",
   "metadata": {},
   "source": [
    "<b>2.c)</b> Calculate the log likelihood of the test data for each model learned in (a).  Which model has the best test performance?"
   ]
  },
  {
   "cell_type": "code",
   "execution_count": 16,
   "metadata": {},
   "outputs": [],
   "source": [
    "testLL = []\n",
    "for K in Kvals:\n",
    "    testLL.append(models[str(K)].calcLL(test))"
   ]
  },
  {
   "cell_type": "code",
   "execution_count": 18,
   "metadata": {},
   "outputs": [
    {
     "name": "stdout",
     "output_type": "stream",
     "text": [
      "The model with the best test performance has  20 states\n"
     ]
    }
   ],
   "source": [
    "print('The model with the best test performance has ', Kvals[np.argmax(testLL)], 'states')"
   ]
  },
  {
   "cell_type": "markdown",
   "metadata": {},
   "source": [
    "<b>2.d)</b> Generate a random 500-character sequence from three different HMMs: the simplest, $M=1$, the one with the highest BIC and the most complex $M=60$."
   ]
  },
  {
   "cell_type": "code",
   "execution_count": 23,
   "metadata": {},
   "outputs": [
    {
     "name": "stdout",
     "output_type": "stream",
     "text": [
      "   Random text sample from simplest model:  ao iir gt e rseah  geaothcd iee rro tnnh eiiihltyw niueiotth agyiul eoslif  sinmsrea h ostey n ryee reewkodat dwtaose aata n stigtaafon shtir syuiwyl nkientnp lvnraeytth tesrsoap e it  faanh  lnsagtaspksenua i sttoraedt  maeselrd eol rhreeedcpohml ea  ut ht  r aaldra neyseetmw dy a hus  ui wii tr indts dtrrmha amth gtaenndr   keehtc s hedt aumteuresdy h  nglhaaai t suwnn iyw ediyoc tnaotrwoie  the lefaag  iai tehlahslwiatktg lcawi rpathmotd  aoah vn iaae tdhai l bsnda rncnys  somnre ks ihtu lnho\n",
      "   Random text sample from most complex model: nd lshoascm cye eruthelh etaddtouhrhotifios  lr w tidc a eh  heaihehnniniat  rhneeoubec r hwn  unu difi  u forph  u rgennogitshhm ecs snte datllaatehhnaild imanarnnjrtloeeuh  hoscauol errrrtyiyaislmedrgtrieyia hotuts   etrsn  hs hat  tnob kapai ritw m rbchi ehiahebsb  tai cyeyta  te uh lhthedtfdtmewnt eednts k oe anahie   cse ne h  n r dhgrn  huheie ct  kd  twsrdsl gd hgi e  n loic odtfnion grgai nissaaiarr llssau rue t diec e e i t kaupooioofe sllehenyr rmteo unl ch  i dnoi onte hchtedywsywa ht\n",
      "  Random text sample from best BIC model: ymanuc rie    edearert uomanrmcf  tpnodsl rhyi  dtoysvraeyglrott tfahoqmoerstud lfeh sva l dcoe lthltmgai lrar itai lklwll hsenekhunn acs w emadeou pttathr agi ybyet intmianpstwhe gsto nprete osanhddvss e  mhnh t  tdtsl  ooseewlosada  o aa  nh oeoa iwadowtese rraloenaoake mtelaetuwiadb io  eremw  t soay r vsputhersaeieh mmerueurir xhoa s oemtri nuaece aolsaiwnt eo pgo  uneu  tn h  hpmlsb fidatihhpaiea  hn  nwem lecatwmte  en  duefrookigebtr thh  ph t nuarlf a  c mtte   ut b  uadihwh ttw eehst   \n"
     ]
    }
   ],
   "source": [
    "mod1 = models['1']\n",
    "mod60 = models['60']\n",
    "modBIC = models[str(Kvals[np.argmax(BIC)])]\n",
    "print('   Random text sample from simplest model: '+hw9.num_to_word(mod1.sample(500)))\n",
    "print('   Random text sample from most complex model:' +hw9.num_to_word(mod60.sample(500)))\n",
    "print('  Random text sample from best BIC model:'+hw9.num_to_word(modBIC.sample(500)))"
   ]
  },
  {
   "cell_type": "markdown",
   "metadata": {},
   "source": [
    "<b>2.e)</b> Construct missing data by randomly replacing each letter in the test data set with a special character (e.g., an asterisk) with probability $\\varepsilon = 0.2$.  Suppose that we observe an erasure at site $t$; calculate the marginal distribution $p (z_t | y)$ where where $z_t$ denotes the states of the HMM and $y$ is the observed data.\n",
    "\n",
    "Predict the missing character by taking the mode of the distribution,\n",
    "$$\n",
    "p (x_t | y, y_t = *)  \\propto \\sum_{z_t} p (x_t | z_t ) p (z_t | y)\n",
    "$$\n",
    "\n",
    "Report the prediction accuray of each of the three models from (d)."
   ]
  },
  {
   "cell_type": "code",
   "execution_count": 4,
   "metadata": {},
   "outputs": [],
   "source": [
    "miss = hw9.deleteChars(test, 27, 0.2)\n",
    "mod1, modBIC, mod60 = hw9.loadMod() #load trained parameters from above code"
   ]
  },
  {
   "cell_type": "code",
   "execution_count": 10,
   "metadata": {},
   "outputs": [],
   "source": [
    "out1 = mod1.predictMissing(miss, 0.2)\n",
    "outBIC= modBIC.predictMissing(miss, 0.2)\n",
    "out60 = mod60.predictMissing(miss, 0.2)"
   ]
  },
  {
   "cell_type": "code",
   "execution_count": 11,
   "metadata": {},
   "outputs": [],
   "source": [
    "imp.reload(hw9)\n",
    "acc1 = hw9.predictAcc(test, out1, miss)\n",
    "accBIC = hw9.predictAcc(test, outBIC, miss)\n",
    "acc60 = hw9.predictAcc(test, out60, miss)"
   ]
  },
  {
   "cell_type": "code",
   "execution_count": 12,
   "metadata": {},
   "outputs": [
    {
     "name": "stdout",
     "output_type": "stream",
     "text": [
      "Accuracy of simplest model: 0.182231\n",
      "Accuracy of most complex model: 0.188794\n",
      "Accuracy of model with best BIC: 0.182231\n"
     ]
    }
   ],
   "source": [
    "print('Accuracy of simplest model: '+'{:4f}'.format(acc1))\n",
    "print('Accuracy of most complex model: '+'{:4f}'.format(acc60))\n",
    "print('Accuracy of model with best BIC: '+'{:4f}'.format(accBIC))"
   ]
  },
  {
   "cell_type": "code",
   "execution_count": null,
   "metadata": {},
   "outputs": [],
   "source": []
  }
 ],
 "metadata": {
  "kernelspec": {
   "display_name": "Python 3",
   "language": "python",
   "name": "python3"
  },
  "language_info": {
   "codemirror_mode": {
    "name": "ipython",
    "version": 3
   },
   "file_extension": ".py",
   "mimetype": "text/x-python",
   "name": "python",
   "nbconvert_exporter": "python",
   "pygments_lexer": "ipython3",
   "version": "3.8.0"
  }
 },
 "nbformat": 4,
 "nbformat_minor": 2
}
