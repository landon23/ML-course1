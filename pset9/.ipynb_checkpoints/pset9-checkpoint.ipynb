{
 "cells": [
  {
   "cell_type": "markdown",
   "metadata": {},
   "source": [
    "<b> Problem 1.</b> In this problem we will consider a subset of the MovieLens dataset which contains user ratings for $M$ movies, recorded between $1$ and $5$, for $N$ users.  In our subset, $M=500$ and $N=943$. The training and test datasets represent the same users, but each dataset has different observed user-movie rating pairs.  We will investigate the behavior of factor analysis and PCA models for the prediction of the test ratings.\n",
    "\n",
    "Denoting by $x_{ij}$ the rating user $i$ gives to movie $j$, factor analysis models the ratings vector $x_i$ for user $i$ by a latent $K$-dimensional vector $z_i \\in \\mathbb{R}^K$ via,\n",
    "$$\n",
    "p (z_i ) = \\mathrm{Normal}(0, 1_K ), \\qquad p(x_i | z_i ) = \\mathrm{Normal}(W z_i + m, V)\n",
    "$$\n",
    "where $W$ is an $M \\times K$ factor-loading matrix, $m$ is a $M$-dimensional mean vector and $V$ is a diagonal covariance matrix.\n",
    "\n",
    "We will implement the EM-algorithm that alternately finds maximum-likelihood estimates for $W$, $m$ and $V$ and marginal distributions for hidden variables $z$. \n",
    "\n",
    "To evaluate the empirical performance of the various prediction methods, we will use the root mean square error (RMSE),\n",
    "$$\n",
    "RMSE := \\left( \\frac{1}{N_r} \\sum_{i, j} r_{ij} (x_{ij} - \\hat{x}_{ij} )^2 \\right)^{\\frac{1}{2}}\n",
    "$$\n",
    "where $r_{ij} =1$ iff $x_{ij}$ appears in the test dataset, and $N_r := \\sum_{i, j} r_{ij}$."
   ]
  },
  {
   "cell_type": "markdown",
   "metadata": {},
   "source": [
    "<b> 1.a)</b> As a simple baseline use the mean rating of each movie in the training dataset to predict the test ratings."
   ]
  },
  {
   "cell_type": "code",
   "execution_count": 8,
   "metadata": {},
   "outputs": [],
   "source": [
    "import numpy as np\n",
    "from scipy.io import loadmat\n",
    "import imp\n",
    "import hw9\n",
    "import matplotlib.pyplot as plt\n",
    "data = loadmat('movielens500.mat')\n",
    "xTrain, xTest = data['S_train'], data['S_test']\n",
    "rTrain = 1 - (xTrain==0)\n",
    "rTest = 1- (xTest ==0)"
   ]
  },
  {
   "cell_type": "code",
   "execution_count": 5,
   "metadata": {},
   "outputs": [
    {
     "name": "stdout",
     "output_type": "stream",
     "text": [
      "The RMSE using the mean training rating of each movie is: 1.0198\n"
     ]
    }
   ],
   "source": [
    "means = np.sum(xTrain, axis=0) / np.sum(rTrain, axis=0)\n",
    "err = hw9.RMS(means, xTest)\n",
    "print('The RMSE using the mean training rating of each movie is: '+'{:.4f}'.format(err))"
   ]
  },
  {
   "cell_type": "markdown",
   "metadata": {},
   "source": [
    "<b>1.b)</b> Next, we use a simple method based on PCA.  First, fill in the missing predictions using the mean predictions from (a).  Use PCA to predict the test ratings for $K= \\{1, 2, \\dots, 20\\}$.  Plot RMSE vs $K$."
   ]
  },
  {
   "cell_type": "code",
   "execution_count": 12,
   "metadata": {},
   "outputs": [],
   "source": [
    "imp.reload(hw9)\n",
    "pca = hw9.moviePCA()\n",
    "pca.fit(xTrain)\n",
    "n = 20\n",
    "Kvals = np.arange(n)+1\n",
    "rms = np.zeros(n)\n",
    "for i in range(n):\n",
    "    K = Kvals[i]\n",
    "    rms[i] = hw9.RMS(pca.predict(K), xTest)"
   ]
  },
  {
   "cell_type": "code",
   "execution_count": 13,
   "metadata": {},
   "outputs": [
    {
     "data": {
      "image/png": "[encoded data removed]",
      "text/plain": [
       "<Figure size 432x288 with 1 Axes>"
      ]
     },
     "metadata": {
      "needs_background": "light"
     },
     "output_type": "display_data"
    },
    {
     "name": "stdout",
     "output_type": "stream",
     "text": [
      "The value of K with the lowest RMSE is: 18\n",
      "The best RMSE is: 0.9778\n"
     ]
    }
   ],
   "source": [
    "plt.plot(Kvals, rms)\n",
    "plt.xlabel('components used in PCA')\n",
    "plt.ylabel('RMSE')\n",
    "plt.show()\n",
    "i = np.argmin(rms)\n",
    "print('The value of K with the lowest RMSE is:', Kvals[i])\n",
    "print('The best RMSE is: '+'{:.4f}'.format(rms[i]))"
   ]
  },
  {
   "cell_type": "markdown",
   "metadata": {},
   "source": [
    "<b>1.c)</b> Run the EM algorithm with factor analysis to estimate low dimensional representations $z_i$, and the parameters $W, m$ and $V$.  For each $K= \\{1, \\dots, 20\\}$ run the EM for $100$ training iterations, and use the estimated quantities to reconstruct the missing ratings.  Plot RMSE vs. $K$."
   ]
  },
  {
   "cell_type": "code",
   "execution_count": 15,
   "metadata": {},
   "outputs": [],
   "source": [
    "imp.reload(hw9)\n",
    "n = 20\n",
    "Kvals = np.arange(n)+1\n",
    "rmsLF = np.zeros(n)\n",
    "for i in range(n):\n",
    "    K = Kvals[i]\n",
    "    lF = hw9.latentFactor(K)\n",
    "    lF.fit(xTrain)\n",
    "    rmsLF[i] = hw9.RMS(lF.predict(), xTest)"
   ]
  },
  {
   "cell_type": "code",
   "execution_count": 20,
   "metadata": {},
   "outputs": [
    {
     "data": {
      "image/png": "[encoded data removed]",
      "text/plain": [
       "<Figure size 432x288 with 1 Axes>"
      ]
     },
     "metadata": {
      "needs_background": "light"
     },
     "output_type": "display_data"
    },
    {
     "name": "stdout",
     "output_type": "stream",
     "text": [
      "The model with the best RMS has  1 latent factors\n",
      "Best RMS: 0.9536\n"
     ]
    }
   ],
   "source": [
    "plt.plot(Kvals, rmsLF)\n",
    "plt.xlabel('Number of latent factors K')\n",
    "plt.ylabel('RMS')\n",
    "plt.show()\n",
    "i = np.argmin(rmsLF)\n",
    "print('The model with the best RMS has ', Kvals[i], 'latent factors')\n",
    "print('Best RMS: '+'{:.4f}'.format(rmsLF[i]))"
   ]
  },
  {
   "cell_type": "markdown",
   "metadata": {},
   "source": [
    "<b>Problem 2.</b> In this problem we will learn hidden Markov models (HMM) of the statistics of English text.  Each discrete time point will correspond to a single letter and for training we use a chapter from Lewis Carroll's Alice's Adventures in Wonderland.  Punctuation has been removed and all letters are lower-case.  \n",
    "\n",
    "We will use alternatively the AIC and BIC to select the optimal number of HMM states.  They are,\n",
    "$$\n",
    "\\mbox{AIC}:= \\log p (x | \\theta_M ) - d (M)\n",
    "$$\n",
    "and\n",
    "$$\n",
    "\\mbox{BIC} := \\log p (x | \\theta_M) - \\frac{1}{2} d (M) \\log (T)\n",
    "$$\n",
    "Here, $p(x | \\theta_M)$ is the likelihood of the data with the learned HMM parameters $\\theta_M$, $d(M)$ are the number of parameters in the HMM and $T$ is the text length."
   ]
  },
  {
   "cell_type": "markdown",
   "metadata": {},
   "source": [
    "<b>2.a)</b> Fit a HMM with state space sizes $K=1, 5, 10, 15, 20, 30, 40, 50, 60$.  For each of this choices run the EM algorithm for at most 500 iterations or until the change in log-likelihood falls below $10^{-6}$.  Compute the log-likelihood that each model assigns to the training sequence. "
   ]
  },
  {
   "cell_type": "code",
   "execution_count": 3,
   "metadata": {},
   "outputs": [],
   "source": [
    "import numpy as np\n",
    "import imp\n",
    "import hw9\n",
    "imp.reload(hw9)\n",
    "train, test = hw9.loadText('aliceTrain.txt'), hw9.loadText('aliceTest.txt')\n",
    "Kvals = [1, 5, 10, 15, 20, 30, 40, 50, 60]"
   ]
  },
  {
   "cell_type": "code",
   "execution_count": 4,
   "metadata": {},
   "outputs": [
    {
     "name": "stdout",
     "output_type": "stream",
     "text": [
      "Tolerance reached!\n"
     ]
    },
    {
     "ename": "KeyboardInterrupt",
     "evalue": "",
     "output_type": "error",
     "traceback": [
      "\u001b[0;31m---------------------------------------------------------------------------\u001b[0m",
      "\u001b[0;31mKeyboardInterrupt\u001b[0m                         Traceback (most recent call last)",
      "\u001b[0;32m<ipython-input-4-5385b9b93e5c>\u001b[0m in \u001b[0;36m<module>\u001b[0;34m\u001b[0m\n\u001b[1;32m      4\u001b[0m \u001b[0;32mfor\u001b[0m \u001b[0mK\u001b[0m \u001b[0;32min\u001b[0m \u001b[0mKvals\u001b[0m\u001b[0;34m:\u001b[0m\u001b[0;34m\u001b[0m\u001b[0;34m\u001b[0m\u001b[0m\n\u001b[1;32m      5\u001b[0m     \u001b[0mmod\u001b[0m \u001b[0;34m=\u001b[0m \u001b[0mhw9\u001b[0m\u001b[0;34m.\u001b[0m\u001b[0mhMM\u001b[0m\u001b[0;34m(\u001b[0m\u001b[0mK\u001b[0m\u001b[0;34m)\u001b[0m\u001b[0;34m\u001b[0m\u001b[0;34m\u001b[0m\u001b[0m\n\u001b[0;32m----> 6\u001b[0;31m     \u001b[0mmod\u001b[0m\u001b[0;34m.\u001b[0m\u001b[0mfit\u001b[0m\u001b[0;34m(\u001b[0m\u001b[0mtrain\u001b[0m\u001b[0;34m,\u001b[0m \u001b[0;36m27\u001b[0m\u001b[0;34m)\u001b[0m\u001b[0;34m\u001b[0m\u001b[0;34m\u001b[0m\u001b[0m\n\u001b[0m\u001b[1;32m      7\u001b[0m     \u001b[0mmodels\u001b[0m\u001b[0;34m[\u001b[0m\u001b[0mstr\u001b[0m\u001b[0;34m(\u001b[0m\u001b[0mK\u001b[0m\u001b[0;34m)\u001b[0m\u001b[0;34m]\u001b[0m\u001b[0;34m=\u001b[0m\u001b[0mmod\u001b[0m\u001b[0;34m\u001b[0m\u001b[0;34m\u001b[0m\u001b[0m\n\u001b[1;32m      8\u001b[0m     \u001b[0mparams\u001b[0m\u001b[0;34m[\u001b[0m\u001b[0mstr\u001b[0m\u001b[0;34m(\u001b[0m\u001b[0mK\u001b[0m\u001b[0;34m)\u001b[0m\u001b[0;34m]\u001b[0m\u001b[0;34m=\u001b[0m\u001b[0mmod\u001b[0m\u001b[0;34m.\u001b[0m\u001b[0mparams\u001b[0m\u001b[0;34m\u001b[0m\u001b[0;34m\u001b[0m\u001b[0m\n",
      "\u001b[0;32m~/Documents/new_career/git_repo/ML-course1/pset9/hw9.py\u001b[0m in \u001b[0;36mfit\u001b[0;34m(self, X, d, max_iter)\u001b[0m\n\u001b[1;32m     54\u001b[0m                 \u001b[0mbetaOld\u001b[0m \u001b[0;34m=\u001b[0m \u001b[0mbetaHat\u001b[0m\u001b[0;34m[\u001b[0m\u001b[0mi\u001b[0m\u001b[0;34m+\u001b[0m\u001b[0;36m1\u001b[0m\u001b[0;34m,\u001b[0m \u001b[0;34m:\u001b[0m\u001b[0;34m]\u001b[0m\u001b[0;34m\u001b[0m\u001b[0;34m\u001b[0m\u001b[0m\n\u001b[1;32m     55\u001b[0m                 \u001b[0mbeta\u001b[0m \u001b[0;34m=\u001b[0m \u001b[0mA\u001b[0m\u001b[0;34m.\u001b[0m\u001b[0mdot\u001b[0m\u001b[0;34m(\u001b[0m\u001b[0mbetaOld\u001b[0m\u001b[0;34m*\u001b[0m\u001b[0mself\u001b[0m\u001b[0;34m.\u001b[0m\u001b[0memission\u001b[0m\u001b[0;34m(\u001b[0m\u001b[0mX\u001b[0m\u001b[0;34m[\u001b[0m\u001b[0mi\u001b[0m\u001b[0;34m+\u001b[0m\u001b[0;36m1\u001b[0m\u001b[0;34m]\u001b[0m\u001b[0;34m,\u001b[0m \u001b[0mmu\u001b[0m\u001b[0;34m)\u001b[0m\u001b[0;34m)\u001b[0m\u001b[0;34m\u001b[0m\u001b[0;34m\u001b[0m\u001b[0m\n\u001b[0;32m---> 56\u001b[0;31m                 \u001b[0mbetaHat\u001b[0m\u001b[0;34m[\u001b[0m\u001b[0mi\u001b[0m\u001b[0;34m,\u001b[0m \u001b[0;34m:\u001b[0m\u001b[0;34m]\u001b[0m \u001b[0;34m=\u001b[0m \u001b[0mbeta\u001b[0m \u001b[0;34m/\u001b[0m \u001b[0mc\u001b[0m\u001b[0;34m[\u001b[0m\u001b[0mi\u001b[0m\u001b[0;34m+\u001b[0m\u001b[0;36m1\u001b[0m\u001b[0;34m]\u001b[0m\u001b[0;34m\u001b[0m\u001b[0;34m\u001b[0m\u001b[0m\n\u001b[0m\u001b[1;32m     57\u001b[0m             \u001b[0mprobOld\u001b[0m \u001b[0;34m=\u001b[0m \u001b[0mprob\u001b[0m\u001b[0;34m\u001b[0m\u001b[0;34m\u001b[0m\u001b[0m\n\u001b[1;32m     58\u001b[0m             \u001b[0mprob\u001b[0m \u001b[0;34m=\u001b[0m \u001b[0;34m-\u001b[0m\u001b[0mnp\u001b[0m\u001b[0;34m.\u001b[0m\u001b[0msum\u001b[0m\u001b[0;34m(\u001b[0m\u001b[0mnp\u001b[0m\u001b[0;34m.\u001b[0m\u001b[0mlog\u001b[0m\u001b[0;34m(\u001b[0m\u001b[0mc\u001b[0m\u001b[0;34m)\u001b[0m\u001b[0;34m)\u001b[0m\u001b[0;34m\u001b[0m\u001b[0;34m\u001b[0m\u001b[0m\n",
      "\u001b[0;31mKeyboardInterrupt\u001b[0m: "
     ]
    }
   ],
   "source": [
    "imp.reload(hw9)\n",
    "models={}\n",
    "params = {}\n",
    "logLL = {}\n",
    "for K in Kvals:\n",
    "    mod = hw9.hMM(K)\n",
    "    mod.fit(train, 27)\n",
    "    models[str(K)]=mod\n",
    "    params[str(K)]=mod.params\n",
    "    logLL[str(K)]=mod.ll[-1]\n",
    "    \n"
   ]
  },
  {
   "cell_type": "code",
   "execution_count": null,
   "metadata": {},
   "outputs": [],
   "source": []
  }
 ],
 "metadata": {
  "kernelspec": {
   "display_name": "Python 3",
   "language": "python",
   "name": "python3"
  },
  "language_info": {
   "codemirror_mode": {
    "name": "ipython",
    "version": 3
   },
   "file_extension": ".py",
   "mimetype": "text/x-python",
   "name": "python",
   "nbconvert_exporter": "python",
   "pygments_lexer": "ipython3",
   "version": "3.8.0"
  }
 },
 "nbformat": 4,
 "nbformat_minor": 2
}
